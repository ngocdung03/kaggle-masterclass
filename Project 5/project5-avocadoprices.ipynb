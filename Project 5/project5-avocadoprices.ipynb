{
 "cells": [
  {
   "cell_type": "markdown",
   "metadata": {},
   "source": [
    "### Import Python Packages and Environmental Setup"
   ]
  },
  {
   "cell_type": "code",
   "execution_count": 1,
   "metadata": {},
   "outputs": [
    {
     "name": "stdout",
     "output_type": "stream",
     "text": [
      "Collecting prophet\n",
      "  Using cached prophet-1.0.1.tar.gz (65 kB)\n"
     ]
    },
    {
     "name": "stderr",
     "output_type": "stream",
     "text": [
      "  ERROR: Command errored out with exit status 1:\n"
     ]
    },
    {
     "name": "stdout",
     "output_type": "stream",
     "text": [
      "Requirement already satisfied: Cython>=0.22 in c:\\users\\ngocdung\\anaconda3\\lib\\site-packages (from prophet) (0.29.15)\n",
      "Collecting cmdstanpy==0.9.68\n",
      "  Using cached cmdstanpy-0.9.68-py3-none-any.whl (49 kB)\n",
      "Requirement already satisfied: pystan~=2.19.1.1 in c:\\users\\ngocdung\\anaconda3\\lib\\site-packages (from prophet) (2.19.1.1)\n",
      "Requirement already satisfied: numpy>=1.15.4 in c:\\users\\ngocdung\\appdata\\roaming\\python\\python37\\site-packages (from prophet) (1.19.1)\n",
      "Requirement already satisfied: pandas>=1.0.4 in c:\\users\\ngocdung\\appdata\\roaming\\python\\python37\\site-packages (from prophet) (1.1.1)\n",
      "Requirement already satisfied: matplotlib>=2.0.0 in c:\\users\\ngocdung\\appdata\\roaming\\python\\python37\\site-packages (from prophet) (3.3.2)\n",
      "Requirement already satisfied: LunarCalendar>=0.0.9 in c:\\users\\ngocdung\\anaconda3\\lib\\site-packages (from prophet) (0.0.9)\n",
      "Requirement already satisfied: convertdate>=2.1.2 in c:\\users\\ngocdung\\anaconda3\\lib\\site-packages (from prophet) (2.3.2)\n",
      "Requirement already satisfied: holidays>=0.10.2 in c:\\users\\ngocdung\\anaconda3\\lib\\site-packages (from prophet) (0.11.2)\n",
      "Requirement already satisfied: setuptools-git>=1.2 in c:\\users\\ngocdung\\anaconda3\\lib\\site-packages (from prophet) (1.2)\n",
      "Requirement already satisfied: python-dateutil>=2.8.0 in c:\\users\\ngocdung\\appdata\\roaming\\python\\python37\\site-packages (from prophet) (2.8.1)\n",
      "Requirement already satisfied: tqdm>=4.36.1 in c:\\users\\ngocdung\\anaconda3\\lib\\site-packages (from prophet) (4.42.1)\n",
      "Requirement already satisfied: ujson in c:\\users\\ngocdung\\anaconda3\\lib\\site-packages (from cmdstanpy==0.9.68->prophet) (1.35)\n",
      "Requirement already satisfied: pymeeus<=1,>=0.3.13 in c:\\users\\ngocdung\\anaconda3\\lib\\site-packages (from convertdate>=2.1.2->prophet) (0.5.11)\n",
      "Requirement already satisfied: pytz>=2014.10 in c:\\users\\ngocdung\\appdata\\roaming\\python\\python37\\site-packages (from convertdate>=2.1.2->prophet) (2020.1)\n",
      "Requirement already satisfied: hijri-converter in c:\\users\\ngocdung\\anaconda3\\lib\\site-packages (from holidays>=0.10.2->prophet) (2.2.0)\n",
      "Requirement already satisfied: korean-lunar-calendar in c:\\users\\ngocdung\\anaconda3\\lib\\site-packages (from holidays>=0.10.2->prophet) (0.2.1)\n",
      "Requirement already satisfied: six in c:\\users\\ngocdung\\appdata\\roaming\\python\\python37\\site-packages (from holidays>=0.10.2->prophet) (1.15.0)\n",
      "Requirement already satisfied: ephem>=3.7.5.3 in c:\\users\\ngocdung\\anaconda3\\lib\\site-packages (from LunarCalendar>=0.0.9->prophet) (4.0.0.2)\n",
      "Requirement already satisfied: certifi>=2020.06.20 in c:\\users\\ngocdung\\appdata\\roaming\\python\\python37\\site-packages (from matplotlib>=2.0.0->prophet) (2020.6.20)\n",
      "Requirement already satisfied: kiwisolver>=1.0.1 in c:\\users\\ngocdung\\appdata\\roaming\\python\\python37\\site-packages (from matplotlib>=2.0.0->prophet) (1.2.0)\n",
      "Requirement already satisfied: pyparsing!=2.0.4,!=2.1.2,!=2.1.6,>=2.0.3 in c:\\users\\ngocdung\\appdata\\roaming\\python\\python37\\site-packages (from matplotlib>=2.0.0->prophet) (2.4.7)\n",
      "Requirement already satisfied: cycler>=0.10 in c:\\users\\ngocdung\\appdata\\roaming\\python\\python37\\site-packages (from matplotlib>=2.0.0->prophet) (0.10.0)\n",
      "Requirement already satisfied: pillow>=6.2.0 in c:\\users\\ngocdung\\appdata\\roaming\\python\\python37\\site-packages (from matplotlib>=2.0.0->prophet) (7.2.0)\n",
      "Building wheels for collected packages: prophet\n",
      "  Building wheel for prophet (setup.py): started\n",
      "  Building wheel for prophet (setup.py): finished with status 'error'\n",
      "  Running setup.py clean for prophet\n",
      "Failed to build prophet\n",
      "Installing collected packages: cmdstanpy, prophet\n",
      "  Attempting uninstall: cmdstanpy\n",
      "    Found existing installation: cmdstanpy 0.9.5\n",
      "    Uninstalling cmdstanpy-0.9.5:\n",
      "      Successfully uninstalled cmdstanpy-0.9.5\n",
      "    Running setup.py install for prophet: started\n",
      "    Running setup.py install for prophet: finished with status 'error'\n"
     ]
    },
    {
     "name": "stderr",
     "output_type": "stream",
     "text": [
      "   command: 'C:\\Users\\ngocdung\\anaconda3\\python.exe' -u -c 'import io, os, sys, setuptools, tokenize; sys.argv[0] = '\"'\"'C:\\\\Users\\\\ngocdung\\\\AppData\\\\Local\\\\Temp\\\\pip-install-mas0kyjq\\\\prophet_809b48adab3e4e668c2669d78f7d3666\\\\setup.py'\"'\"'; __file__='\"'\"'C:\\\\Users\\\\ngocdung\\\\AppData\\\\Local\\\\Temp\\\\pip-install-mas0kyjq\\\\prophet_809b48adab3e4e668c2669d78f7d3666\\\\setup.py'\"'\"';f = getattr(tokenize, '\"'\"'open'\"'\"', open)(__file__) if os.path.exists(__file__) else io.StringIO('\"'\"'from setuptools import setup; setup()'\"'\"');code = f.read().replace('\"'\"'\\r\\n'\"'\"', '\"'\"'\\n'\"'\"');f.close();exec(compile(code, __file__, '\"'\"'exec'\"'\"'))' bdist_wheel -d 'C:\\Users\\ngocdung\\AppData\\Local\\Temp\\pip-wheel-fcq__qjm'\n",
      "       cwd: C:\\Users\\ngocdung\\AppData\\Local\\Temp\\pip-install-mas0kyjq\\prophet_809b48adab3e4e668c2669d78f7d3666\\\n",
      "  Complete output (11 lines):\n",
      "  running bdist_wheel\n",
      "  running build\n",
      "  running build_py\n",
      "  creating build\n",
      "  creating build\\lib\n",
      "  creating build\\lib\\prophet\n",
      "  creating build\\lib\\prophet\\stan_model\n",
      "  Importing plotly failed. Interactive plots will not work.\n",
      "  INFO:pystan:COMPILING THE C++ CODE FOR MODEL anon_model_f5236004a3fd5b8429270d00efcc0cf9 NOW.\n",
      "  WARNING:pystan:MSVC compiler is not supported\n",
      "  error: Microsoft Visual C++ 14.0 is required. Get it with \"Build Tools for Visual Studio\": https://visualstudio.microsoft.com/downloads/\n",
      "  ----------------------------------------\n",
      "  ERROR: Failed building wheel for prophet\n",
      "    ERROR: Command errored out with exit status 1:\n",
      "     command: 'C:\\Users\\ngocdung\\anaconda3\\python.exe' -u -c 'import io, os, sys, setuptools, tokenize; sys.argv[0] = '\"'\"'C:\\\\Users\\\\ngocdung\\\\AppData\\\\Local\\\\Temp\\\\pip-install-mas0kyjq\\\\prophet_809b48adab3e4e668c2669d78f7d3666\\\\setup.py'\"'\"'; __file__='\"'\"'C:\\\\Users\\\\ngocdung\\\\AppData\\\\Local\\\\Temp\\\\pip-install-mas0kyjq\\\\prophet_809b48adab3e4e668c2669d78f7d3666\\\\setup.py'\"'\"';f = getattr(tokenize, '\"'\"'open'\"'\"', open)(__file__) if os.path.exists(__file__) else io.StringIO('\"'\"'from setuptools import setup; setup()'\"'\"');code = f.read().replace('\"'\"'\\r\\n'\"'\"', '\"'\"'\\n'\"'\"');f.close();exec(compile(code, __file__, '\"'\"'exec'\"'\"'))' install --record 'C:\\Users\\ngocdung\\AppData\\Local\\Temp\\pip-record-0fy19bw6\\install-record.txt' --single-version-externally-managed --compile --install-headers 'C:\\Users\\ngocdung\\anaconda3\\Include\\prophet'\n",
      "         cwd: C:\\Users\\ngocdung\\AppData\\Local\\Temp\\pip-install-mas0kyjq\\prophet_809b48adab3e4e668c2669d78f7d3666\\\n",
      "    Complete output (11 lines):\n",
      "    running install\n",
      "    running build\n",
      "    running build_py\n",
      "    creating build\n",
      "    creating build\\lib\n",
      "    creating build\\lib\\prophet\n",
      "    creating build\\lib\\prophet\\stan_model\n",
      "    Importing plotly failed. Interactive plots will not work.\n",
      "    INFO:pystan:COMPILING THE C++ CODE FOR MODEL anon_model_f5236004a3fd5b8429270d00efcc0cf9 NOW.\n",
      "    WARNING:pystan:MSVC compiler is not supported\n",
      "    error: Microsoft Visual C++ 14.0 is required. Get it with \"Build Tools for Visual Studio\": https://visualstudio.microsoft.com/downloads/\n",
      "    ----------------------------------------\n",
      "ERROR: Command errored out with exit status 1: 'C:\\Users\\ngocdung\\anaconda3\\python.exe' -u -c 'import io, os, sys, setuptools, tokenize; sys.argv[0] = '\"'\"'C:\\\\Users\\\\ngocdung\\\\AppData\\\\Local\\\\Temp\\\\pip-install-mas0kyjq\\\\prophet_809b48adab3e4e668c2669d78f7d3666\\\\setup.py'\"'\"'; __file__='\"'\"'C:\\\\Users\\\\ngocdung\\\\AppData\\\\Local\\\\Temp\\\\pip-install-mas0kyjq\\\\prophet_809b48adab3e4e668c2669d78f7d3666\\\\setup.py'\"'\"';f = getattr(tokenize, '\"'\"'open'\"'\"', open)(__file__) if os.path.exists(__file__) else io.StringIO('\"'\"'from setuptools import setup; setup()'\"'\"');code = f.read().replace('\"'\"'\\r\\n'\"'\"', '\"'\"'\\n'\"'\"');f.close();exec(compile(code, __file__, '\"'\"'exec'\"'\"'))' install --record 'C:\\Users\\ngocdung\\AppData\\Local\\Temp\\pip-record-0fy19bw6\\install-record.txt' --single-version-externally-managed --compile --install-headers 'C:\\Users\\ngocdung\\anaconda3\\Include\\prophet' Check the logs for full command output.\n",
      "WARNING: You are using pip version 21.1.2; however, version 21.2.4 is available.\n",
      "You should consider upgrading via the 'C:\\Users\\ngocdung\\anaconda3\\python.exe -m pip install --upgrade pip' command.\n"
     ]
    }
   ],
   "source": [
    "#! pip install pystan==2.19.1.1\n",
    "! pip install prophet"
   ]
  },
  {
   "cell_type": "code",
   "execution_count": 3,
   "metadata": {},
   "outputs": [],
   "source": [
    "import numpy as np\n",
    "import pandas as pd\n",
    "import seaborn as sns\n",
    "import matplotlib.pyplot as plt\n",
    "\n",
    "from statsmodels.tsa.seasonal import seasonal_decompose\n",
    "from fbprophet import Prophet\n",
    "from fbprophet.plot import plot_plotly, plot_components_plotly\n",
    "\n",
    "%matplotlib inline"
   ]
  },
  {
   "cell_type": "markdown",
   "metadata": {},
   "source": [
    "### Importing and Analyzing the Avocado CSV"
   ]
  },
  {
   "cell_type": "code",
   "execution_count": 14,
   "metadata": {},
   "outputs": [
    {
     "data": {
      "text/html": [
       "<div>\n",
       "<style scoped>\n",
       "    .dataframe tbody tr th:only-of-type {\n",
       "        vertical-align: middle;\n",
       "    }\n",
       "\n",
       "    .dataframe tbody tr th {\n",
       "        vertical-align: top;\n",
       "    }\n",
       "\n",
       "    .dataframe thead th {\n",
       "        text-align: right;\n",
       "    }\n",
       "</style>\n",
       "<table border=\"1\" class=\"dataframe\">\n",
       "  <thead>\n",
       "    <tr style=\"text-align: right;\">\n",
       "      <th></th>\n",
       "      <th>Unnamed: 0</th>\n",
       "      <th>Date</th>\n",
       "      <th>AveragePrice</th>\n",
       "      <th>Total Volume</th>\n",
       "      <th>4046</th>\n",
       "      <th>4225</th>\n",
       "      <th>4770</th>\n",
       "      <th>Total Bags</th>\n",
       "      <th>Small Bags</th>\n",
       "      <th>Large Bags</th>\n",
       "      <th>XLarge Bags</th>\n",
       "      <th>type</th>\n",
       "      <th>year</th>\n",
       "      <th>region</th>\n",
       "    </tr>\n",
       "  </thead>\n",
       "  <tbody>\n",
       "    <tr>\n",
       "      <th>0</th>\n",
       "      <td>0</td>\n",
       "      <td>2015-12-27</td>\n",
       "      <td>1.33</td>\n",
       "      <td>64236.62</td>\n",
       "      <td>1036.74</td>\n",
       "      <td>54454.85</td>\n",
       "      <td>48.16</td>\n",
       "      <td>8696.87</td>\n",
       "      <td>8603.62</td>\n",
       "      <td>93.25</td>\n",
       "      <td>0.0</td>\n",
       "      <td>conventional</td>\n",
       "      <td>2015</td>\n",
       "      <td>Albany</td>\n",
       "    </tr>\n",
       "    <tr>\n",
       "      <th>1</th>\n",
       "      <td>1</td>\n",
       "      <td>2015-12-20</td>\n",
       "      <td>1.35</td>\n",
       "      <td>54876.98</td>\n",
       "      <td>674.28</td>\n",
       "      <td>44638.81</td>\n",
       "      <td>58.33</td>\n",
       "      <td>9505.56</td>\n",
       "      <td>9408.07</td>\n",
       "      <td>97.49</td>\n",
       "      <td>0.0</td>\n",
       "      <td>conventional</td>\n",
       "      <td>2015</td>\n",
       "      <td>Albany</td>\n",
       "    </tr>\n",
       "    <tr>\n",
       "      <th>2</th>\n",
       "      <td>2</td>\n",
       "      <td>2015-12-13</td>\n",
       "      <td>0.93</td>\n",
       "      <td>118220.22</td>\n",
       "      <td>794.70</td>\n",
       "      <td>109149.67</td>\n",
       "      <td>130.50</td>\n",
       "      <td>8145.35</td>\n",
       "      <td>8042.21</td>\n",
       "      <td>103.14</td>\n",
       "      <td>0.0</td>\n",
       "      <td>conventional</td>\n",
       "      <td>2015</td>\n",
       "      <td>Albany</td>\n",
       "    </tr>\n",
       "    <tr>\n",
       "      <th>3</th>\n",
       "      <td>3</td>\n",
       "      <td>2015-12-06</td>\n",
       "      <td>1.08</td>\n",
       "      <td>78992.15</td>\n",
       "      <td>1132.00</td>\n",
       "      <td>71976.41</td>\n",
       "      <td>72.58</td>\n",
       "      <td>5811.16</td>\n",
       "      <td>5677.40</td>\n",
       "      <td>133.76</td>\n",
       "      <td>0.0</td>\n",
       "      <td>conventional</td>\n",
       "      <td>2015</td>\n",
       "      <td>Albany</td>\n",
       "    </tr>\n",
       "    <tr>\n",
       "      <th>4</th>\n",
       "      <td>4</td>\n",
       "      <td>2015-11-29</td>\n",
       "      <td>1.28</td>\n",
       "      <td>51039.60</td>\n",
       "      <td>941.48</td>\n",
       "      <td>43838.39</td>\n",
       "      <td>75.78</td>\n",
       "      <td>6183.95</td>\n",
       "      <td>5986.26</td>\n",
       "      <td>197.69</td>\n",
       "      <td>0.0</td>\n",
       "      <td>conventional</td>\n",
       "      <td>2015</td>\n",
       "      <td>Albany</td>\n",
       "    </tr>\n",
       "  </tbody>\n",
       "</table>\n",
       "</div>"
      ],
      "text/plain": [
       "   Unnamed: 0        Date  AveragePrice  Total Volume     4046       4225  \\\n",
       "0           0  2015-12-27          1.33      64236.62  1036.74   54454.85   \n",
       "1           1  2015-12-20          1.35      54876.98   674.28   44638.81   \n",
       "2           2  2015-12-13          0.93     118220.22   794.70  109149.67   \n",
       "3           3  2015-12-06          1.08      78992.15  1132.00   71976.41   \n",
       "4           4  2015-11-29          1.28      51039.60   941.48   43838.39   \n",
       "\n",
       "     4770  Total Bags  Small Bags  Large Bags  XLarge Bags          type  \\\n",
       "0   48.16     8696.87     8603.62       93.25          0.0  conventional   \n",
       "1   58.33     9505.56     9408.07       97.49          0.0  conventional   \n",
       "2  130.50     8145.35     8042.21      103.14          0.0  conventional   \n",
       "3   72.58     5811.16     5677.40      133.76          0.0  conventional   \n",
       "4   75.78     6183.95     5986.26      197.69          0.0  conventional   \n",
       "\n",
       "   year  region  \n",
       "0  2015  Albany  \n",
       "1  2015  Albany  \n",
       "2  2015  Albany  \n",
       "3  2015  Albany  \n",
       "4  2015  Albany  "
      ]
     },
     "execution_count": 14,
     "metadata": {},
     "output_type": "execute_result"
    }
   ],
   "source": [
    "df = pd.read_csv('avocado.csv')\n",
    "df.head()"
   ]
  },
  {
   "cell_type": "code",
   "execution_count": 15,
   "metadata": {},
   "outputs": [
    {
     "data": {
      "text/plain": [
       "Index(['Unnamed: 0', 'Date', 'AveragePrice', 'Total Volume', '4046', '4225',\n",
       "       '4770', 'Total Bags', 'Small Bags', 'Large Bags', 'XLarge Bags', 'type',\n",
       "       'year', 'region'],\n",
       "      dtype='object')"
      ]
     },
     "execution_count": 15,
     "metadata": {},
     "output_type": "execute_result"
    }
   ],
   "source": [
    "df.columns"
   ]
  },
  {
   "cell_type": "code",
   "execution_count": 16,
   "metadata": {},
   "outputs": [],
   "source": [
    "df.drop('Unnamed: 0', axis =1, inplace = True)\n",
    "df['Data'] = pd.to_datetime(df['Date'])"
   ]
  },
  {
   "cell_type": "code",
   "execution_count": 17,
   "metadata": {},
   "outputs": [
    {
     "ename": "AttributeError",
     "evalue": "'str' object has no attribute 'strftime'",
     "output_type": "error",
     "traceback": [
      "\u001b[1;31m---------------------------------------------------------------------------\u001b[0m",
      "\u001b[1;31mAttributeError\u001b[0m                            Traceback (most recent call last)",
      "\u001b[1;32m<ipython-input-17-e32859fe4adb>\u001b[0m in \u001b[0;36m<module>\u001b[1;34m\u001b[0m\n\u001b[1;32m----> 1\u001b[1;33m \u001b[0mdf\u001b[0m\u001b[1;33m[\u001b[0m\u001b[1;34m'month'\u001b[0m\u001b[1;33m]\u001b[0m \u001b[1;33m=\u001b[0m \u001b[1;33m[\u001b[0m\u001b[0md\u001b[0m\u001b[1;33m.\u001b[0m\u001b[0mstrftime\u001b[0m\u001b[1;33m(\u001b[0m\u001b[1;34m'%b'\u001b[0m\u001b[1;33m)\u001b[0m \u001b[1;32mfor\u001b[0m \u001b[0md\u001b[0m \u001b[1;32min\u001b[0m \u001b[0mdf\u001b[0m\u001b[1;33m.\u001b[0m\u001b[0mDate\u001b[0m\u001b[1;33m]\u001b[0m\u001b[1;33m\u001b[0m\u001b[1;33m\u001b[0m\u001b[0m\n\u001b[0m\u001b[0;32m      2\u001b[0m df['month'] = df['month'].replace({'01': 'January', '02': 'February', '03': 'March',\n\u001b[0;32m      3\u001b[0m                                   \u001b[1;34m'04'\u001b[0m\u001b[1;33m:\u001b[0m \u001b[1;34m'April'\u001b[0m\u001b[1;33m,\u001b[0m \u001b[1;34m'05'\u001b[0m\u001b[1;33m:\u001b[0m \u001b[1;34m'May'\u001b[0m\u001b[1;33m,\u001b[0m \u001b[1;34m'06'\u001b[0m\u001b[1;33m:\u001b[0m \u001b[1;34m'June'\u001b[0m\u001b[1;33m,\u001b[0m\u001b[1;33m\u001b[0m\u001b[1;33m\u001b[0m\u001b[0m\n\u001b[0;32m      4\u001b[0m                                   \u001b[1;34m'07'\u001b[0m\u001b[1;33m:\u001b[0m \u001b[1;34m'July'\u001b[0m\u001b[1;33m,\u001b[0m \u001b[1;34m'08'\u001b[0m\u001b[1;33m:\u001b[0m \u001b[1;34m'August'\u001b[0m\u001b[1;33m,\u001b[0m \u001b[1;34m'09'\u001b[0m\u001b[1;33m:\u001b[0m \u001b[1;34m'September'\u001b[0m\u001b[1;33m,\u001b[0m\u001b[1;33m\u001b[0m\u001b[1;33m\u001b[0m\u001b[0m\n\u001b[0;32m      5\u001b[0m                                   '10': 'October', '11': 'November', '12': 'December'})\n",
      "\u001b[1;32m<ipython-input-17-e32859fe4adb>\u001b[0m in \u001b[0;36m<listcomp>\u001b[1;34m(.0)\u001b[0m\n\u001b[1;32m----> 1\u001b[1;33m \u001b[0mdf\u001b[0m\u001b[1;33m[\u001b[0m\u001b[1;34m'month'\u001b[0m\u001b[1;33m]\u001b[0m \u001b[1;33m=\u001b[0m \u001b[1;33m[\u001b[0m\u001b[0md\u001b[0m\u001b[1;33m.\u001b[0m\u001b[0mstrftime\u001b[0m\u001b[1;33m(\u001b[0m\u001b[1;34m'%b'\u001b[0m\u001b[1;33m)\u001b[0m \u001b[1;32mfor\u001b[0m \u001b[0md\u001b[0m \u001b[1;32min\u001b[0m \u001b[0mdf\u001b[0m\u001b[1;33m.\u001b[0m\u001b[0mDate\u001b[0m\u001b[1;33m]\u001b[0m\u001b[1;33m\u001b[0m\u001b[1;33m\u001b[0m\u001b[0m\n\u001b[0m\u001b[0;32m      2\u001b[0m df['month'] = df['month'].replace({'01': 'January', '02': 'February', '03': 'March',\n\u001b[0;32m      3\u001b[0m                                   \u001b[1;34m'04'\u001b[0m\u001b[1;33m:\u001b[0m \u001b[1;34m'April'\u001b[0m\u001b[1;33m,\u001b[0m \u001b[1;34m'05'\u001b[0m\u001b[1;33m:\u001b[0m \u001b[1;34m'May'\u001b[0m\u001b[1;33m,\u001b[0m \u001b[1;34m'06'\u001b[0m\u001b[1;33m:\u001b[0m \u001b[1;34m'June'\u001b[0m\u001b[1;33m,\u001b[0m\u001b[1;33m\u001b[0m\u001b[1;33m\u001b[0m\u001b[0m\n\u001b[0;32m      4\u001b[0m                                   \u001b[1;34m'07'\u001b[0m\u001b[1;33m:\u001b[0m \u001b[1;34m'July'\u001b[0m\u001b[1;33m,\u001b[0m \u001b[1;34m'08'\u001b[0m\u001b[1;33m:\u001b[0m \u001b[1;34m'August'\u001b[0m\u001b[1;33m,\u001b[0m \u001b[1;34m'09'\u001b[0m\u001b[1;33m:\u001b[0m \u001b[1;34m'September'\u001b[0m\u001b[1;33m,\u001b[0m\u001b[1;33m\u001b[0m\u001b[1;33m\u001b[0m\u001b[0m\n\u001b[0;32m      5\u001b[0m                                   '10': 'October', '11': 'November', '12': 'December'})\n",
      "\u001b[1;31mAttributeError\u001b[0m: 'str' object has no attribute 'strftime'"
     ]
    }
   ],
   "source": [
    "df['month'] = [d.strftime('%b') for d in df.Date]\n",
    "df['month'] = df['month'].replace({'01': 'January', '02': 'February', '03': 'March',\n",
    "                                  '04': 'April', '05': 'May', '06': 'June',\n",
    "                                  '07': 'July', '08': 'August', '09': 'September',\n",
    "                                  '10': 'October', '11': 'November', '12': 'December'})"
   ]
  }
 ],
 "metadata": {
  "kernelspec": {
   "display_name": "Python 3",
   "language": "python",
   "name": "python3"
  },
  "language_info": {
   "codemirror_mode": {
    "name": "ipython",
    "version": 3
   },
   "file_extension": ".py",
   "mimetype": "text/x-python",
   "name": "python",
   "nbconvert_exporter": "python",
   "pygments_lexer": "ipython3",
   "version": "3.7.6"
  }
 },
 "nbformat": 4,
 "nbformat_minor": 4
}
